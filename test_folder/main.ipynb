{
 "cells": [
  {
   "cell_type": "code",
   "execution_count": 64,
   "metadata": {},
   "outputs": [],
   "source": [
    "import win32com.client"
   ]
  },
  {
   "cell_type": "code",
   "execution_count": 92,
   "metadata": {},
   "outputs": [],
   "source": [
    "word = win32com.client.Dispatch(\"Word.Application\")\n",
    "word.Visible = False  "
   ]
  },
  {
   "cell_type": "code",
   "execution_count": 94,
   "metadata": {},
   "outputs": [],
   "source": [
    "doc = word.Documents.Open(r\"C:\\Users\\91943\\OneDrive\\Desktop\\Coding_Test_1\\test_folder\\input.docx\")\n",
    "text = doc.Content.Text\n",
    "# Opening the input file and extracting text"
   ]
  },
  {
   "cell_type": "code",
   "execution_count": 41,
   "metadata": {},
   "outputs": [],
   "source": [
    "import re\n"
   ]
  },
  {
   "cell_type": "markdown",
   "metadata": {},
   "source": [
    "extracting of quoted regions"
   ]
  },
  {
   "cell_type": "code",
   "execution_count": 95,
   "metadata": {},
   "outputs": [],
   "source": [
    "quoted_spans = [(m.start(), m.end()) for m in re.finditer(r'[\"“](.+?)[\"”]', text)]\n"
   ]
  },
  {
   "cell_type": "code",
   "execution_count": 45,
   "metadata": {},
   "outputs": [],
   "source": [
    "#checking whether any index falling inside quoted region\n",
    "def is_inside_quotes(index):\n",
    "    for start, end in quoted_spans:\n",
    "        if start <= index < end:\n",
    "            return True\n",
    "    return False\n"
   ]
  },
  {
   "cell_type": "code",
   "execution_count": 46,
   "metadata": {},
   "outputs": [
    {
     "name": "stdout",
     "output_type": "stream",
     "text": [
      "Found 12 quoted sections.\n"
     ]
    }
   ],
   "source": [
    "print(f\"Found {len(quoted_spans)} quoted sections.\")\n"
   ]
  },
  {
   "cell_type": "markdown",
   "metadata": {},
   "source": [
    "defining replacement rules (UK terminology)"
   ]
  },
  {
   "cell_type": "code",
   "execution_count": 102,
   "metadata": {},
   "outputs": [
    {
     "name": "stdout",
     "output_type": "stream",
     "text": [
      "✅ Loaded 1800 American to British spelling rules.\n"
     ]
    }
   ],
   "source": [
    "import requests\n",
    "\n",
    "# Load full American to British spelling dictionary from GitHub\n",
    "url = \"https://raw.githubusercontent.com/hyperreality/American-British-English-Translator/master/data/american_spellings.json\"\n",
    "american_to_british_dict = requests.get(url).json()\n",
    "\n",
    "print(f\"✅ Loaded {len(american_to_british_dict)} American to British spelling rules.\")\n"
   ]
  },
  {
   "cell_type": "code",
   "execution_count": 97,
   "metadata": {},
   "outputs": [
    {
     "name": "stdout",
     "output_type": "stream",
     "text": [
      "✅ Conversion completed.\n",
      "\n",
      "Preview:\n",
      " On Monday, we organise a significant conference for example in London, hosted by the World Health Organization. The event aims to address pressing global policy issues, and Dr Manmohan Singh will deliver the opening remarks. Dr Manmohan Singh has been a key figure in economic policy, and he plans to\n"
     ]
    }
   ],
   "source": [
    "# Define acronym expansions (only for lowercase form)\n",
    "acronym_expansions = {\n",
    "    \"eg\": \"for example\",\n",
    "    \"etc\": \"and so on\",\n",
    "    \"ie\": \"that is\",\n",
    "    \"vs\": \"versus\",\n",
    "}\n",
    "\n",
    "# Precompile word replacement patterns\n",
    "compiled_replacements = [\n",
    "    (re.compile(rf'\\b{re.escape(am_word)}\\b', flags=re.IGNORECASE), br_word)\n",
    "    for am_word, br_word in american_to_british_dict.items()\n",
    "]\n",
    "\n",
    "# corrected_text will be the final output\n",
    "corrected_text = \"\"\n",
    "i = 0\n",
    "\n",
    "while i < len(text):\n",
    "    if is_inside_quotes(i):\n",
    "        for start, end in quoted_spans:\n",
    "            if start == i:\n",
    "                corrected_text += text[start:end]\n",
    "                i = end\n",
    "                break\n",
    "    else:\n",
    "        # Process until next quote starts, or end of text\n",
    "        next_quote_start = min([start for start, _ in quoted_spans if start > i], default=len(text))\n",
    "        chunk = text[i:next_quote_start]\n",
    "\n",
    "        # Tokenize the chunk, keeping punctuation and spacing\n",
    "        tokens = re.split(r'(\\W+)', chunk)\n",
    "\n",
    "        for j, token in enumerate(tokens):\n",
    "            if not token.strip():\n",
    "                continue  # Skip whitespace-only tokens\n",
    "\n",
    "            # Skip Capitalized words (likely nouns) and all-uppercase acronyms\n",
    "            if token[0].isupper() or token.isupper():\n",
    "                continue\n",
    "\n",
    "            # Expand lowercase acronyms\n",
    "            if token.lower() in acronym_expansions:\n",
    "                tokens[j] = acronym_expansions[token.lower()]\n",
    "                continue\n",
    "\n",
    "            # Apply American → British spelling replacements\n",
    "            for pattern, replacement in compiled_replacements:\n",
    "                token = pattern.sub(replacement, token)\n",
    "            tokens[j] = token\n",
    "\n",
    "        corrected_text += ''.join(tokens)\n",
    "        i = next_quote_start\n",
    "\n",
    "print(\"✅ Conversion completed.\")\n",
    "print(\"\\nPreview:\\n\", corrected_text[:300])\n"
   ]
  },
  {
   "cell_type": "markdown",
   "metadata": {},
   "source": [
    "Task 2 "
   ]
  },
  {
   "cell_type": "code",
   "execution_count": 104,
   "metadata": {},
   "outputs": [
    {
     "name": "stdout",
     "output_type": "stream",
     "text": [
      "✅ Found full titled names:\n",
      "- Dr Manmohan Singh\n",
      "- Dr Aishwarya Rai\n"
     ]
    }
   ],
   "source": [
    "import collections\n",
    "\n",
    "# Title prefixes to look for (can expand if needed)\n",
    "titles = [\"Dr\", \"Mr\", \"Mrs\", \"Ms\", \"Prof\"]\n",
    "\n",
    "# Regex to find titled full names (e.g., Dr Manmohan Singh)\n",
    "name_pattern = re.compile(r'\\b(?:' + '|'.join(titles) + r')\\s+[A-Z][a-z]+\\s+[A-Z][a-z]+\\b')\n",
    "\n",
    "# Dictionary to count how many people share the same last name\n",
    "last_name_count = collections.Counter()\n",
    "# Ordered dict to preserve appearance order\n",
    "full_name_mentions = collections.OrderedDict()\n",
    "\n",
    "# Find all full names with titles\n",
    "for match in name_pattern.finditer(corrected_text):\n",
    "    full_name = match.group()\n",
    "    parts = full_name.split()\n",
    "    title, first, last = parts\n",
    "    last_name_count[last] += 1\n",
    "    full_name_mentions[full_name] = {\"title\": title, \"first\": first, \"last\": last}\n",
    "\n",
    "print(\"✅ Found full titled names:\")\n",
    "for name in full_name_mentions:\n",
    "    print(\"-\", name)\n"
   ]
  },
  {
   "cell_type": "markdown",
   "metadata": {},
   "source": [
    "Replacing Names accordingly"
   ]
  },
  {
   "cell_type": "code",
   "execution_count": 99,
   "metadata": {},
   "outputs": [
    {
     "name": "stdout",
     "output_type": "stream",
     "text": [
      "✅ Name shortening rules applied.\n"
     ]
    }
   ],
   "source": [
    "# Function to do the name substitution\n",
    "def replace_names(text):\n",
    "    replaced = text\n",
    "    for full_name, meta in full_name_mentions.items():\n",
    "        title = meta[\"title\"]\n",
    "        last = meta[\"last\"]\n",
    "        \n",
    "        if last_name_count[last] == 1:\n",
    "            # Only one person with this last name → shorten on subsequent mentions\n",
    "            pattern = rf'\\b{re.escape(full_name)}\\b'\n",
    "            # Replace first occurrence with full, then rest with title + last\n",
    "            occurrences = list(re.finditer(pattern, replaced))\n",
    "            for i, match in enumerate(occurrences):\n",
    "                short = f\"{title} {last}\"\n",
    "                if i == 0:\n",
    "                    continue  # first mention stays full\n",
    "                start, end = match.span()\n",
    "                replaced = replaced[:start] + short + replaced[end:]\n",
    "        else:\n",
    "            # Shared last name → keep full name always\n",
    "            continue\n",
    "    return replaced\n",
    "\n",
    "# Apply name replacements\n",
    "corrected_text = replace_names(corrected_text)\n",
    "print(\"✅ Name shortening rules applied.\")\n"
   ]
  },
  {
   "cell_type": "markdown",
   "metadata": {},
   "source": [
    "Initials in names"
   ]
  },
  {
   "cell_type": "code",
   "execution_count": 108,
   "metadata": {},
   "outputs": [
    {
     "name": "stdout",
     "output_type": "stream",
     "text": [
      "✅ Initials with periods fixed.\n"
     ]
    }
   ],
   "source": [
    "# Add periods after single-letter initials (only if followed by a capitalized last name)\n",
    "corrected_text = re.sub(r'\\b([A-Z]) (?=[A-Z][a-z]+\\b)', r'\\1. ', corrected_text)\n",
    "print(\"✅ Initials with periods fixed.\")\n"
   ]
  },
  {
   "cell_type": "code",
   "execution_count": 109,
   "metadata": {},
   "outputs": [
    {
     "name": "stdout",
     "output_type": "stream",
     "text": [
      "✅ Output saved to:\n",
      "C:\\Users\\91943\\OneDrive\\Desktop\\Coding_Test_1\\test_folder\\output.docx\n"
     ]
    }
   ],
   "source": [
    "# Start Word again\n",
    "word = win32com.client.Dispatch(\"Word.Application\")\n",
    "word.Visible = False\n",
    "\n",
    "# Create a new document\n",
    "doc = word.Documents.Add()\n",
    "\n",
    "# Add \"Corrected:\" heading\n",
    "doc.Content.Text = \"Corrected:\\n\\n\" + corrected_text\n",
    "\n",
    "# Save the output file (adjust the path as needed)\n",
    "output_path = r\"C:\\Users\\91943\\OneDrive\\Desktop\\Coding_Test_1\\test_folder\\output.docx\"\n",
    "doc.SaveAs(output_path)\n",
    "\n",
    "# Close Word\n",
    "doc.Close()\n",
    "word.Quit()\n",
    "\n",
    "print(f\"✅ Output saved to:\\n{output_path}\")\n"
   ]
  }
 ],
 "metadata": {
  "kernelspec": {
   "display_name": "venv",
   "language": "python",
   "name": "python3"
  },
  "language_info": {
   "codemirror_mode": {
    "name": "ipython",
    "version": 3
   },
   "file_extension": ".py",
   "mimetype": "text/x-python",
   "name": "python",
   "nbconvert_exporter": "python",
   "pygments_lexer": "ipython3",
   "version": "3.12.5"
  }
 },
 "nbformat": 4,
 "nbformat_minor": 2
}
